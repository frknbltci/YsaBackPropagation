{
 "cells": [
  {
   "cell_type": "code",
   "execution_count": 1,
   "metadata": {},
   "outputs": [
    {
     "name": "stdout",
     "output_type": "stream",
     "text": [
      "Hata Oranı  -0.03795880591470957\n",
      "Gradient -0.025075309415076446\n",
      "İlk W5 Değeri 0.012209628541712552\n",
      "Güncel W5 Değeri -0.006913849571934761\n"
     ]
    }
   ],
   "source": [
    "#Muhammed Furkan BALTACI  \n",
    "import numpy as np\n",
    "\n",
    "W1=np.random.randn(1,4)*0.01\n",
    "W2=np.random.randn(1,4)*0.01\n",
    "X=np.random.randn(1,2)\n",
    "n=np.random.rand()  #learning rate\n",
    "bias=np.random.rand()\n",
    "target=[2,2]\n",
    "\n",
    "\n",
    "def sigmoid(x):\n",
    "    1/(1+np.exp(-x))\n",
    "    return x\n",
    "    \n",
    "\n",
    "neth1=W1[0][0]*X[0][0]+W1[0][1]*X[0][1]+bias\n",
    "neth2=W1[0][2]*X[0][0]+W1[0][3]*X[0][1]+bias\n",
    "\n",
    "outh1=sigmoid(neth1)\n",
    "outh2=sigmoid(neth2)\n",
    "\n",
    "\n",
    "netO1=W2[0][0]*outh1+W2[0][1]*outh2\n",
    "netO2=W2[0][2]*outh1+W2[0][3]*outh2\n",
    "\n",
    "outO1=sigmoid(netO1)\n",
    "outO2=sigmoid(netO2)\n",
    "\n",
    "EO1=1/2*np.power(target[0]-outO1,2)\n",
    "EO2=1/2*np.power(target[1]-outO2,2)\n",
    "\n",
    "Etotal=EO1+EO2\n",
    "\n",
    "#&O1\n",
    "hataOranı=-(target[0]-outO1)*outO1*(1-outO1)\n",
    "print(\"Hata Oranı \",hataOranı)\n",
    "#Gradient = dEtotal/dW5\n",
    "Gradient=hataOranı*outh1\n",
    "print(\"Gradient\",Gradient)\n",
    "\n",
    "newW5=W2[0][0]+(n*Gradient)\n",
    "\n",
    "print(\"İlk W5 Değeri\",W2[0][0])\n",
    "\n",
    "print(\"Güncel W5 Değeri\",newW5)\n"
   ]
  },
  {
   "cell_type": "code",
   "execution_count": null,
   "metadata": {},
   "outputs": [],
   "source": []
  },
  {
   "cell_type": "code",
   "execution_count": null,
   "metadata": {},
   "outputs": [],
   "source": []
  }
 ],
 "metadata": {
  "kernelspec": {
   "display_name": "Python 3",
   "language": "python",
   "name": "python3"
  },
  "language_info": {
   "codemirror_mode": {
    "name": "ipython",
    "version": 3
   },
   "file_extension": ".py",
   "mimetype": "text/x-python",
   "name": "python",
   "nbconvert_exporter": "python",
   "pygments_lexer": "ipython3",
   "version": "3.7.1"
  }
 },
 "nbformat": 4,
 "nbformat_minor": 2
}
